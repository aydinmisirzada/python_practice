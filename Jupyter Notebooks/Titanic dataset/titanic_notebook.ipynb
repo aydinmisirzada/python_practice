{
 "cells": [
  {
   "cell_type": "markdown",
   "metadata": {},
   "source": [
    "# Working with Titanic dataset\n",
    "\n",
    "In this notebook, I will go through the whole process of creating a machine learning model on the famous Titanic dataset. It provides information on the fate of passengers on the Titanic, summarized according to their economic status, cabin displacement, age, and sex.\n",
    "\n",
    "This notebook was submitted as a homework for (BIE-VZD) Data Mining course, while I was studying at Faculty of Information Technoloogies of Czech Technical University in Prague. The dataset has also been provided by univeristy, though similar dataset can be found at kaggle.com."
   ]
  },
  {
   "cell_type": "code",
   "execution_count": 1,
   "metadata": {},
   "outputs": [],
   "source": [
    "#import modules\n",
    "import numpy as np\n",
    "import os\n",
    "import pandas as pd\n",
    "import seaborn as sns\n",
    "import re\n",
    "import random\n",
    "from matplotlib import pyplot as plt\n",
    "from sklearn import metrics\n",
    "from sklearn.ensemble import RandomForestClassifier\n",
    "from sklearn.tree import DecisionTreeClassifier\n",
    "from sklearn.feature_selection import RFECV\n",
    "from sklearn.linear_model import LogisticRegression\n",
    "from sklearn.metrics import accuracy_score\n",
    "from sklearn.model_selection import cross_val_score, GridSearchCV\n",
    "from sklearn.preprocessing import LabelEncoder\n",
    "from sklearn.model_selection import train_test_split\n",
    "import warnings\n",
    "warnings.filterwarnings('ignore')"
   ]
  },
  {
   "cell_type": "code",
   "execution_count": 2,
   "metadata": {},
   "outputs": [],
   "source": [
    "#read data.csv\n",
    "dataset = pd.read_csv('data.csv')\n",
    "eval_data = pd.read_csv('evaluation.csv')"
   ]
  },
  {
   "cell_type": "markdown",
   "metadata": {},
   "source": [
    "Let's get some information about how our dataset looks like"
   ]
  },
  {
   "cell_type": "code",
   "execution_count": 3,
   "metadata": {},
   "outputs": [
    {
     "data": {
      "text/plain": [
       "(1000, 13)"
      ]
     },
     "metadata": {},
     "output_type": "display_data"
    },
    {
     "data": {
      "text/html": [
       "<div>\n",
       "<style scoped>\n",
       "    .dataframe tbody tr th:only-of-type {\n",
       "        vertical-align: middle;\n",
       "    }\n",
       "\n",
       "    .dataframe tbody tr th {\n",
       "        vertical-align: top;\n",
       "    }\n",
       "\n",
       "    .dataframe thead th {\n",
       "        text-align: right;\n",
       "    }\n",
       "</style>\n",
       "<table border=\"1\" class=\"dataframe\">\n",
       "  <thead>\n",
       "    <tr style=\"text-align: right;\">\n",
       "      <th></th>\n",
       "      <th>ID</th>\n",
       "      <th>survived</th>\n",
       "      <th>pclass</th>\n",
       "      <th>name</th>\n",
       "      <th>sex</th>\n",
       "      <th>age</th>\n",
       "      <th>sibsp</th>\n",
       "      <th>parch</th>\n",
       "      <th>ticket</th>\n",
       "      <th>fare</th>\n",
       "      <th>cabin</th>\n",
       "      <th>embarked</th>\n",
       "      <th>home.dest</th>\n",
       "    </tr>\n",
       "  </thead>\n",
       "  <tbody>\n",
       "    <tr>\n",
       "      <th>0</th>\n",
       "      <td>0</td>\n",
       "      <td>1</td>\n",
       "      <td>3</td>\n",
       "      <td>Dorking, Mr. Edward Arthur</td>\n",
       "      <td>male</td>\n",
       "      <td>19.0</td>\n",
       "      <td>0</td>\n",
       "      <td>0</td>\n",
       "      <td>A/5. 10482</td>\n",
       "      <td>8.05</td>\n",
       "      <td>NaN</td>\n",
       "      <td>S</td>\n",
       "      <td>England Oglesby, IL</td>\n",
       "    </tr>\n",
       "    <tr>\n",
       "      <th>1</th>\n",
       "      <td>1</td>\n",
       "      <td>1</td>\n",
       "      <td>2</td>\n",
       "      <td>Smith, Miss. Marion Elsie</td>\n",
       "      <td>female</td>\n",
       "      <td>40.0</td>\n",
       "      <td>0</td>\n",
       "      <td>0</td>\n",
       "      <td>31418</td>\n",
       "      <td>13.00</td>\n",
       "      <td>NaN</td>\n",
       "      <td>S</td>\n",
       "      <td>NaN</td>\n",
       "    </tr>\n",
       "    <tr>\n",
       "      <th>2</th>\n",
       "      <td>2</td>\n",
       "      <td>0</td>\n",
       "      <td>3</td>\n",
       "      <td>Hegarty, Miss. Hanora \"Nora\"</td>\n",
       "      <td>female</td>\n",
       "      <td>18.0</td>\n",
       "      <td>0</td>\n",
       "      <td>0</td>\n",
       "      <td>365226</td>\n",
       "      <td>6.75</td>\n",
       "      <td>NaN</td>\n",
       "      <td>Q</td>\n",
       "      <td>NaN</td>\n",
       "    </tr>\n",
       "  </tbody>\n",
       "</table>\n",
       "</div>"
      ],
      "text/plain": [
       "   ID  survived  pclass                          name     sex   age  sibsp  \\\n",
       "0   0         1       3    Dorking, Mr. Edward Arthur    male  19.0      0   \n",
       "1   1         1       2     Smith, Miss. Marion Elsie  female  40.0      0   \n",
       "2   2         0       3  Hegarty, Miss. Hanora \"Nora\"  female  18.0      0   \n",
       "\n",
       "   parch      ticket   fare cabin embarked            home.dest  \n",
       "0      0  A/5. 10482   8.05   NaN        S  England Oglesby, IL  \n",
       "1      0       31418  13.00   NaN        S                  NaN  \n",
       "2      0      365226   6.75   NaN        Q                  NaN  "
      ]
     },
     "execution_count": 3,
     "metadata": {},
     "output_type": "execute_result"
    }
   ],
   "source": [
    "#Shape of the dataset and first 5 rows\n",
    "display(dataset.shape)\n",
    "dataset.head(3)"
   ]
  },
  {
   "cell_type": "code",
   "execution_count": 4,
   "metadata": {},
   "outputs": [
    {
     "name": "stdout",
     "output_type": "stream",
     "text": [
      "<class 'pandas.core.frame.DataFrame'>\n",
      "RangeIndex: 1000 entries, 0 to 999\n",
      "Data columns (total 13 columns):\n",
      " #   Column     Non-Null Count  Dtype  \n",
      "---  ------     --------------  -----  \n",
      " 0   ID         1000 non-null   int64  \n",
      " 1   survived   1000 non-null   int64  \n",
      " 2   pclass     1000 non-null   int64  \n",
      " 3   name       1000 non-null   object \n",
      " 4   sex        1000 non-null   object \n",
      " 5   age        797 non-null    float64\n",
      " 6   sibsp      1000 non-null   int64  \n",
      " 7   parch      1000 non-null   int64  \n",
      " 8   ticket     1000 non-null   object \n",
      " 9   fare       1000 non-null   float64\n",
      " 10  cabin      226 non-null    object \n",
      " 11  embarked   998 non-null    object \n",
      " 12  home.dest  554 non-null    object \n",
      "dtypes: float64(2), int64(5), object(6)\n",
      "memory usage: 101.7+ KB\n"
     ]
    }
   ],
   "source": [
    "#Data structure\n",
    "dataset.info()"
   ]
  },
  {
   "cell_type": "markdown",
   "metadata": {},
   "source": [
    "There's a total of 1000 rows, but features **age**, **cabin**, **embarked**, and **home.dest** have some empty values. Let's get some numbers about survived ones"
   ]
  },
  {
   "cell_type": "code",
   "execution_count": 5,
   "metadata": {},
   "outputs": [
    {
     "data": {
      "text/plain": [
       "0    607\n",
       "1    393\n",
       "Name: survived, dtype: int64"
      ]
     },
     "execution_count": 5,
     "metadata": {},
     "output_type": "execute_result"
    }
   ],
   "source": [
    "dataset.survived.value_counts()"
   ]
  },
  {
   "cell_type": "markdown",
   "metadata": {},
   "source": [
    "As we can see, overall probability of surviving is ~39%."
   ]
  },
  {
   "cell_type": "markdown",
   "metadata": {},
   "source": [
    "### Notes on the initial observation of data:\n",
    "- Feature **embarked** has only two missing values, we can probably fill them ourselves with the most common values.\n",
    "- Feature **home.dest** has 446 values missing, but this data is needless, since it won't affect chances of survival in any way. We will drop this column.\n",
    "- Feature **age** has 203 values missing, so we will have to tackle this.\n",
    "- Feature **cabin** has 774 missing values."
   ]
  },
  {
   "cell_type": "markdown",
   "metadata": {},
   "source": [
    "## Part 1. Data Preprocessing"
   ]
  },
  {
   "cell_type": "markdown",
   "metadata": {},
   "source": [
    "### Splitting the dataset into train, test, and validation sets."
   ]
  },
  {
   "cell_type": "code",
   "execution_count": 6,
   "metadata": {},
   "outputs": [],
   "source": [
    "Xdata = dataset.drop('survived' ,axis =1)\n",
    "Ydata = dataset.survived"
   ]
  },
  {
   "cell_type": "code",
   "execution_count": 7,
   "metadata": {},
   "outputs": [],
   "source": [
    "SEED = 323\n",
    "Xtrain, Xtest, Ytrain, Ytest = train_test_split(Xdata, Ydata, test_size=0.25, random_state=SEED)\n",
    "Xtrain, Xval, Ytrain, Yval = train_test_split(Xtrain, Ytrain, test_size=0.25, random_state=SEED)"
   ]
  },
  {
   "cell_type": "code",
   "execution_count": 8,
   "metadata": {},
   "outputs": [],
   "source": [
    "datasets = [dataset, Xtrain, Xtest, Xval, eval_data]"
   ]
  },
  {
   "cell_type": "markdown",
   "metadata": {},
   "source": [
    "### Missing Data"
   ]
  },
  {
   "cell_type": "markdown",
   "metadata": {},
   "source": [
    "### Cabin\n",
    "\n",
    "When observing values in Cabin column one can see that values look like C67, E126, meaning the letter refers to the deck. We’re going to extract these and create a new feature, that contains a persons deck. Afterwords we will convert the feature into a numeric variable. The missing values will be converted to zero. Below you can see the actual decks of the titanic, ranging from A to G."
   ]
  },
  {
   "cell_type": "code",
   "execution_count": 9,
   "metadata": {},
   "outputs": [],
   "source": [
    "for d in datasets:\n",
    "    d.loc[:,'cabin'] = d.loc[:,'cabin'].fillna(\"U0\") #for NaNs\n",
    "    d.loc[:,'deck'] = d.loc[:,'cabin'].map(lambda x: re.compile(\"([a-zA-Z]+)\").search(x).group())"
   ]
  },
  {
   "cell_type": "code",
   "execution_count": 10,
   "metadata": {},
   "outputs": [],
   "source": [
    "#creating decks and converting them to numeric values\n",
    "deck = {\"A\": 1, \"B\": 2, \"C\": 3, \"D\": 4, \"E\": 5, \"F\": 6, \"G\": 7, \"U\": 0}\n",
    "for d in datasets:\n",
    "    d.loc[:,'deck'] = d.loc[:,'deck'].map(deck)\n",
    "    d.loc[:,'deck'] = d.loc[:,'deck'].fillna(0)\n",
    "    d.loc[:,'deck'] = d.loc[:,'deck'].astype(int)"
   ]
  },
  {
   "cell_type": "markdown",
   "metadata": {},
   "source": [
    "Now that we have decks, we can drop cabin"
   ]
  },
  {
   "cell_type": "code",
   "execution_count": 11,
   "metadata": {},
   "outputs": [],
   "source": [
    "for d in datasets:\n",
    "    d.drop('cabin',axis=1,inplace=True)"
   ]
  },
  {
   "cell_type": "markdown",
   "metadata": {},
   "source": [
    "### Age\n",
    "To fill missing values we will create an array that contains random numbers, which are computed based on the mean age value in regards to the standard deviation and is_null.\n"
   ]
  },
  {
   "cell_type": "code",
   "execution_count": 12,
   "metadata": {},
   "outputs": [],
   "source": [
    "for d in datasets:\n",
    "    mean = d.loc[:,\"age\"].mean()\n",
    "    std = d.loc[:,\"age\"].std()\n",
    "    \n",
    "    d.loc[:,'age'] = d.loc[:,'age'].map(lambda x: random.uniform(mean-std,mean+std))\n",
    "    d.loc[:,\"age\"] = d.loc[:,\"age\"].astype(int)"
   ]
  },
  {
   "cell_type": "markdown",
   "metadata": {},
   "source": [
    "### Embarked\n",
    "\n",
    "Since the Embarked feature has only 2 missing values, we will just fill these with the most common one."
   ]
  },
  {
   "cell_type": "code",
   "execution_count": 13,
   "metadata": {},
   "outputs": [
    {
     "data": {
      "text/plain": [
       "count     998\n",
       "unique      3\n",
       "top         S\n",
       "freq      691\n",
       "Name: embarked, dtype: object"
      ]
     },
     "execution_count": 13,
     "metadata": {},
     "output_type": "execute_result"
    }
   ],
   "source": [
    "dataset['embarked'].describe()"
   ]
  },
  {
   "cell_type": "code",
   "execution_count": 14,
   "metadata": {},
   "outputs": [],
   "source": [
    "# S is the most common\n",
    "\n",
    "for d in datasets:\n",
    "    d['embarked'].fillna('S',inplace=True)"
   ]
  },
  {
   "cell_type": "markdown",
   "metadata": {},
   "source": [
    "### Home.dest\n",
    "\n",
    "Unnecessary feature, does not contribute to survival. Drop it"
   ]
  },
  {
   "cell_type": "code",
   "execution_count": 15,
   "metadata": {},
   "outputs": [],
   "source": [
    "for d in datasets:\n",
    "    d.drop('home.dest', axis = 1, inplace=True)"
   ]
  },
  {
   "cell_type": "code",
   "execution_count": 16,
   "metadata": {},
   "outputs": [
    {
     "data": {
      "text/plain": [
       "ID          0\n",
       "survived    0\n",
       "pclass      0\n",
       "name        0\n",
       "sex         0\n",
       "age         0\n",
       "sibsp       0\n",
       "parch       0\n",
       "ticket      0\n",
       "fare        0\n",
       "embarked    0\n",
       "deck        0\n",
       "dtype: int64"
      ]
     },
     "execution_count": 16,
     "metadata": {},
     "output_type": "execute_result"
    }
   ],
   "source": [
    "dataset.isnull().sum()"
   ]
  },
  {
   "cell_type": "markdown",
   "metadata": {},
   "source": [
    "### Converting features into numeric"
   ]
  },
  {
   "cell_type": "markdown",
   "metadata": {},
   "source": [
    "### Name\n",
    "We don't need the actual names, but the titles might be a useful piece of information."
   ]
  },
  {
   "cell_type": "code",
   "execution_count": 17,
   "metadata": {},
   "outputs": [],
   "source": [
    "titles = {\"Mr\": 1, \"Miss\": 2, \"Mrs\": 3, \"Master\": 4, \"Rare\": 5}\n",
    "\n",
    "for d in datasets:\n",
    "    # extract titles\n",
    "    d['title'] = d.name.str.extract(' ([A-Za-z]+)\\.', expand=False)\n",
    "    \n",
    "    # replace titles with a more common title or as Rare\n",
    "    d['title'] = d['title'].replace(['Lady', 'Countess','Capt', 'Col','Don', 'Dr',\\\n",
    "                                            'Major', 'Rev', 'Sir', 'Jonkheer', 'Dona'], 'Rare')\n",
    "    \n",
    "    d['title'] = d['title'].replace('Mlle', 'Miss')\n",
    "    d['title'] = d['title'].replace('Ms', 'Miss')\n",
    "    d['title'] = d['title'].replace('Mme', 'Mrs')\n",
    "    \n",
    "    # convert titles into numbers\n",
    "    d['title'] = d['title'].map(titles)\n",
    "    \n",
    "    # filling NaN with 0, to get safe\n",
    "    d['title'] = d['title'].fillna(0)\n",
    "    \n",
    "    d.drop(['name'], axis=1,inplace=True)"
   ]
  },
  {
   "cell_type": "markdown",
   "metadata": {},
   "source": [
    "### Sex"
   ]
  },
  {
   "cell_type": "code",
   "execution_count": 18,
   "metadata": {},
   "outputs": [],
   "source": [
    "genders = {\"male\": 1, \"female\": 0}\n",
    "\n",
    "for d in datasets:\n",
    "    d['sex'] = d['sex'].map(genders)"
   ]
  },
  {
   "cell_type": "markdown",
   "metadata": {},
   "source": [
    "### Ticket"
   ]
  },
  {
   "cell_type": "code",
   "execution_count": 19,
   "metadata": {},
   "outputs": [
    {
     "data": {
      "text/plain": [
       "count        1000\n",
       "unique        740\n",
       "top       CA 2144\n",
       "freq            7\n",
       "Name: ticket, dtype: object"
      ]
     },
     "execution_count": 19,
     "metadata": {},
     "output_type": "execute_result"
    }
   ],
   "source": [
    "dataset['ticket'].describe()"
   ]
  },
  {
   "cell_type": "markdown",
   "metadata": {},
   "source": [
    "This feature has too many unique values. Drop it"
   ]
  },
  {
   "cell_type": "code",
   "execution_count": 20,
   "metadata": {},
   "outputs": [],
   "source": [
    "for d in datasets:\n",
    "    d.drop(['ticket'], axis=1,inplace=True)"
   ]
  },
  {
   "cell_type": "markdown",
   "metadata": {},
   "source": [
    "### Embarked"
   ]
  },
  {
   "cell_type": "code",
   "execution_count": 21,
   "metadata": {},
   "outputs": [],
   "source": [
    "ports = {\"S\": 0, \"C\": 1, \"Q\": 2}\n",
    "\n",
    "for d in datasets:\n",
    "    d['embarked'] = d['embarked'].map(ports)"
   ]
  },
  {
   "cell_type": "markdown",
   "metadata": {},
   "source": [
    "### Combining sibsp and parch"
   ]
  },
  {
   "cell_type": "code",
   "execution_count": 22,
   "metadata": {},
   "outputs": [],
   "source": [
    "for d in datasets:\n",
    "    d['relatives'] = d['sibsp'] + d['parch']\n",
    "    d.drop('parch' , axis =1, inplace=True)\n",
    "    d.drop('sibsp' , axis =1, inplace=True)"
   ]
  },
  {
   "cell_type": "markdown",
   "metadata": {},
   "source": [
    "### Fare per person"
   ]
  },
  {
   "cell_type": "markdown",
   "metadata": {},
   "source": [
    "Some rows in Fare feature are counting money paid for relatives' tickets as well. Let's correct this"
   ]
  },
  {
   "cell_type": "code",
   "execution_count": 23,
   "metadata": {},
   "outputs": [],
   "source": [
    "for d in datasets:\n",
    "    d['fare'] = d['fare'].fillna(0)\n",
    "    d['fare_per_person'] = d['fare']/(d['relatives']+1)\n",
    "    d['fare_per_person'] = d['fare_per_person'].astype(int)\n",
    "    d.drop('fare' , axis =1, inplace=True)"
   ]
  },
  {
   "cell_type": "markdown",
   "metadata": {},
   "source": [
    "### Categorizing Age\n",
    "There're too many unique values for age, so it is better to categorize it."
   ]
  },
  {
   "cell_type": "code",
   "execution_count": 24,
   "metadata": {},
   "outputs": [],
   "source": [
    "for d in datasets:\n",
    "    d['age'] = d['age'].astype(int)\n",
    "    d.loc[ d['age'] <= 11, 'age'] = 0\n",
    "    d.loc[(d['age'] > 11) & (d['age'] <= 18), 'age'] = 1\n",
    "    d.loc[(d['age'] > 18) & (d['age'] <= 27), 'age'] = 2\n",
    "    d.loc[(d['age'] > 27) & (d['age'] <= 40), 'age'] = 3\n",
    "    d.loc[(d['age'] > 40) & (d['age'] <= 66), 'age'] = 4\n",
    "    d.loc[ d['age'] > 66, 'age'] = 5"
   ]
  },
  {
   "cell_type": "markdown",
   "metadata": {},
   "source": [
    "Now that the data is ready to be fed to model, let's move on to model training"
   ]
  },
  {
   "cell_type": "markdown",
   "metadata": {},
   "source": [
    "## Part 2. Model Training"
   ]
  },
  {
   "cell_type": "markdown",
   "metadata": {},
   "source": [
    "### Model 1. Decision Tree"
   ]
  },
  {
   "cell_type": "code",
   "execution_count": 25,
   "metadata": {},
   "outputs": [
    {
     "data": {
      "text/plain": [
       "DecisionTreeClassifier()"
      ]
     },
     "execution_count": 25,
     "metadata": {},
     "output_type": "execute_result"
    }
   ],
   "source": [
    "dt = DecisionTreeClassifier()\n",
    "dt.fit(Xtrain, Ytrain)"
   ]
  },
  {
   "cell_type": "code",
   "execution_count": 26,
   "metadata": {},
   "outputs": [
    {
     "data": {
      "text/plain": [
       "0    1.0\n",
       "Name: survived, dtype: float64"
      ]
     },
     "execution_count": 26,
     "metadata": {},
     "output_type": "execute_result"
    }
   ],
   "source": [
    "ypredicted = dt.predict(Xtrain)\n",
    "(Ytrain - ypredicted).value_counts(normalize=True)"
   ]
  },
  {
   "cell_type": "code",
   "execution_count": 36,
   "metadata": {},
   "outputs": [
    {
     "data": {
      "text/plain": [
       "1.0"
      ]
     },
     "execution_count": 36,
     "metadata": {},
     "output_type": "execute_result"
    }
   ],
   "source": [
    "metrics.accuracy_score(Ytrain, dt.predict(Xtrain))"
   ]
  },
  {
   "cell_type": "markdown",
   "metadata": {},
   "source": [
    "### Hyper Parameter Tuning - Parameter Grid\n",
    "\n"
   ]
  },
  {
   "cell_type": "code",
   "execution_count": 37,
   "metadata": {},
   "outputs": [],
   "source": [
    "from sklearn.model_selection import ParameterGrid\n",
    "param_grid = {\n",
    "    'max_depth': range(1,31), \n",
    "    'criterion': ['entropy', 'gini'],\n",
    "    'random_state': [323]\n",
    "}\n",
    "param_comb = ParameterGrid(param_grid)"
   ]
  },
  {
   "cell_type": "code",
   "execution_count": 38,
   "metadata": {},
   "outputs": [],
   "source": [
    "val_acc = []\n",
    "train_acc = []\n",
    "for params in param_comb:\n",
    "    dt = DecisionTreeClassifier(max_depth = params['max_depth'], criterion = params['criterion'])\n",
    "    dt.fit(Xtrain, Ytrain)\n",
    "    train_acc.append(metrics.accuracy_score(Ytrain, dt.predict(Xtrain)))\n",
    "    val_acc.append(metrics.accuracy_score(Yval, dt.predict(Xval)))\n",
    "    "
   ]
  },
  {
   "cell_type": "code",
   "execution_count": 39,
   "metadata": {},
   "outputs": [
    {
     "data": {
      "text/plain": [
       "<matplotlib.legend.Legend at 0x7fe4dcf6ca00>"
      ]
     },
     "execution_count": 39,
     "metadata": {},
     "output_type": "execute_result"
    },
    {
     "data": {
      "image/png": "[encoded data removed]",
      "text/plain": [
       "<Figure size 1440x360 with 1 Axes>"
      ]
     },
     "metadata": {
      "needs_background": "light"
     },
     "output_type": "display_data"
    }
   ],
   "source": [
    "import matplotlib.pyplot as plt\n",
    "plt.figure(figsize=(20,5))\n",
    "plt.plot(train_acc,'or-')\n",
    "plt.plot(val_acc,'ob-')\n",
    "plt.xlabel('hyperparametr index')\n",
    "plt.ylabel('accuracy')\n",
    "plt.legend(['train', 'validation'])"
   ]
  },
  {
   "cell_type": "code",
   "execution_count": 40,
   "metadata": {},
   "outputs": [
    {
     "name": "stdout",
     "output_type": "stream",
     "text": [
      "{'random_state': 323, 'max_depth': 5, 'criterion': 'gini'}\n",
      "The Training accuracy after Hyperparameter Tuning\n",
      "1.0\n",
      "The Validation accuracy after Hyperparameter Tuning\n",
      "0.8191489361702128\n"
     ]
    }
   ],
   "source": [
    "best_params = param_comb[np.argmax(val_acc)]\n",
    "print(best_params)\n",
    "\n",
    "print('The Training accuracy after Hyperparameter Tuning')\n",
    "final_acc_score_dt = train_acc[np.argmax( train_acc)]\n",
    "print(train_acc[np.argmax( train_acc)])\n",
    "\n",
    "print('The Validation accuracy after Hyperparameter Tuning')\n",
    "print(val_acc[np.argmax(val_acc)])"
   ]
  },
  {
   "cell_type": "code",
   "execution_count": 44,
   "metadata": {},
   "outputs": [
    {
     "name": "stdout",
     "output_type": "stream",
     "text": [
      "accuracy score (train): 1.000\n",
      "accuracy score (validation): 0.819\n",
      "\n",
      "Final Model Decision Tree Accuracy Score on Validation Data is:\n",
      "0.819\n",
      "\n",
      " \n",
      "Final Real World accuracy based on test set is:\n",
      "0.820\n"
     ]
    }
   ],
   "source": [
    "dt = DecisionTreeClassifier(**best_params)\n",
    "dt.fit(Xtrain,Ytrain)\n",
    "\n",
    "#final_acc_score_dt = metrics.accuracy_score(ytrain, dt.predict(Xtrain))\n",
    "final_acc_score_dt_val = metrics.accuracy_score(Yval, dt.predict(Xval))\n",
    "\n",
    "print('accuracy score (train): {0:.3f}'.format(final_acc_score_dt))\n",
    "print('accuracy score (validation): {0:.3f}'.format(final_acc_score_dt_val))\n",
    "\n",
    "print('\\nFinal Model Decision Tree Accuracy Score on Validation Data is:')\n",
    "print('{0:.3f}'.format(final_acc_score_dt_val))\n",
    "\n",
    "final_acc_score_dt_test = metrics.accuracy_score(Ytest, dt.predict(Xtest))\n",
    "print('\\n \\nFinal Real World accuracy based on test set is:')\n",
    "print('{0:.3f}'.format(final_acc_score_dt_test))"
   ]
  },
  {
   "cell_type": "markdown",
   "metadata": {},
   "source": [
    "### Cross Validation scores"
   ]
  },
  {
   "cell_type": "code",
   "execution_count": 46,
   "metadata": {},
   "outputs": [
    {
     "name": "stdout",
     "output_type": "stream",
     "text": [
      "Scores: [0.45 0.82 0.81 0.78 0.85 0.8  0.77 0.82 0.8  0.7 ]\n",
      "\n",
      "Mean: 0.76\n",
      "\n",
      "Standard Deviation: 0.11009087155618308\n"
     ]
    }
   ],
   "source": [
    "dt = DecisionTreeClassifier(**best_params)\n",
    "scores = cross_val_score(dt, dataset.drop('survived' , axis = 1), dataset.survived , cv=10, scoring = \"accuracy\")\n",
    "print(\"Scores:\", scores)\n",
    "print(\"\\nMean:\", scores.mean())\n",
    "print(\"\\nStandard Deviation:\", scores.std())"
   ]
  },
  {
   "cell_type": "markdown",
   "metadata": {},
   "source": [
    "### Model 2. Random Forest Classifier"
   ]
  },
  {
   "cell_type": "code",
   "execution_count": 53,
   "metadata": {},
   "outputs": [],
   "source": [
    "rf = RandomForestClassifier()\n",
    "rf.fit(Xtrain, Ytrain)\n",
    "\n",
    "yprediction = rf.predict(Xtest)"
   ]
  },
  {
   "cell_type": "code",
   "execution_count": 54,
   "metadata": {},
   "outputs": [
    {
     "data": {
      "text/plain": [
       "1.0"
      ]
     },
     "metadata": {},
     "output_type": "display_data"
    },
    {
     "data": {
      "text/plain": [
       "0.8191489361702128"
      ]
     },
     "metadata": {},
     "output_type": "display_data"
    }
   ],
   "source": [
    "final_acc_score_rf = rf.score(Xtrain, Ytrain)\n",
    "final_acc_score_rf_val = rf.score(Xval, Yval)\n",
    "display(final_acc_score_rf)\n",
    "display(final_acc_score_rf_val)"
   ]
  },
  {
   "cell_type": "markdown",
   "metadata": {},
   "source": [
    "### Hyper Parameter Tuning"
   ]
  },
  {
   "cell_type": "code",
   "execution_count": 56,
   "metadata": {},
   "outputs": [],
   "source": [
    "param_grid = {\n",
    "    'n_estimators': range(1, 200, 9),\n",
    "    'max_depth': range(1, 10),\n",
    "    'criterion': ['gini' , 'entropy'],\n",
    "    'random_state':  [4532]\n",
    "}\n",
    "\n",
    "param_comb = ParameterGrid(param_grid)\n",
    "train_metric = []\n",
    "val_metric = []\n",
    "for params in param_comb:\n",
    "    rf = RandomForestClassifier(**params).fit(Xtrain, Ytrain)\n",
    "    train_metric.append(metrics.accuracy_score(Ytrain, rf.predict(Xtrain)))\n",
    "    val_metric.append(metrics.accuracy_score(Yval, rf.predict(Xval)))"
   ]
  },
  {
   "cell_type": "code",
   "execution_count": 57,
   "metadata": {},
   "outputs": [
    {
     "data": {
      "text/plain": [
       "<matplotlib.legend.Legend at 0x7fe4dd97bc10>"
      ]
     },
     "execution_count": 57,
     "metadata": {},
     "output_type": "execute_result"
    },
    {
     "data": {
      "image/png": "[encoded data removed]",
      "text/plain": [
       "<Figure size 1440x360 with 1 Axes>"
      ]
     },
     "metadata": {
      "needs_background": "light"
     },
     "output_type": "display_data"
    }
   ],
   "source": [
    "plt.figure(figsize=(20,5))\n",
    "plt.plot(train_metric,'or-')\n",
    "plt.plot(val_metric,'ob-')\n",
    "plt.xlabel('hyperparametr index')\n",
    "plt.ylabel('accuracy')\n",
    "plt.legend(['train', 'validation'])"
   ]
  },
  {
   "cell_type": "code",
   "execution_count": 58,
   "metadata": {},
   "outputs": [
    {
     "name": "stdout",
     "output_type": "stream",
     "text": [
      "{'random_state': 4532, 'n_estimators': 46, 'max_depth': 9, 'criterion': 'gini'}\n",
      "0.8457446808510638\n",
      "0.9501779359430605\n"
     ]
    }
   ],
   "source": [
    "best_params = param_comb[np.argmax(val_metric)]\n",
    "print(best_params)\n",
    "print(val_metric[np.argmax(val_metric)])\n",
    "print(train_metric[np.argmax(train_metric)])"
   ]
  },
  {
   "cell_type": "code",
   "execution_count": 60,
   "metadata": {},
   "outputs": [
    {
     "name": "stdout",
     "output_type": "stream",
     "text": [
      "accuracy score (train) after hyper parameter tuning: 0.936\n",
      "accuracy score (validation): 0.846\n",
      "\n",
      " \n",
      "Final Model Random Forest Accuracy Score on Validation Data is:\n",
      "0.846\n",
      "\n",
      " \n",
      "Final Real World accuracy based on test set is:\n",
      "0.796\n"
     ]
    }
   ],
   "source": [
    "rf = RandomForestClassifier(**best_params) \n",
    "rf.fit(Xtrain, Ytrain)\n",
    "final_acc_score_rf = metrics.accuracy_score(Ytrain, rf.predict(Xtrain))\n",
    "final_acc_score_rf_val = metrics.accuracy_score(Yval, rf.predict(Xval))\n",
    "final_acc_score_rf_test = metrics.accuracy_score(Ytest, rf.predict(Xtest))\n",
    "\n",
    "\n",
    "\n",
    "print('accuracy score (train) after hyper parameter tuning: {0:.3f}'.format(final_acc_score_rf))\n",
    "print('accuracy score (validation): {0:.3f}'.format(final_acc_score_rf_val))\n",
    "\n",
    "print('\\n \\nFinal Model Random Forest Accuracy Score on Validation Data is:')\n",
    "print('{0:.3f}'.format(final_acc_score_rf_val))\n",
    "\n",
    "print('\\n \\nFinal Real World accuracy based on test set is:')\n",
    "print('{0:.3f}'.format(final_acc_score_rf_test))"
   ]
  },
  {
   "cell_type": "markdown",
   "metadata": {},
   "source": [
    "## Final\n",
    "Random forest has higher score on validation set, so it is a better option to choose for evaluating evaluation.csv"
   ]
  },
  {
   "cell_type": "markdown",
   "metadata": {},
   "source": [
    "### Predicting values on evaluation.csv"
   ]
  },
  {
   "cell_type": "code",
   "execution_count": 61,
   "metadata": {},
   "outputs": [],
   "source": [
    "predictions_eval_data = rf.predict(eval_data)\n",
    "results = pd.DataFrame({'ID':eval_data.index, 'Survived':predictions_eval_data})\n",
    "results.to_csv('results2.csv')"
   ]
  },
  {
   "cell_type": "markdown",
   "metadata": {},
   "source": []
  }
 ],
 "metadata": {
  "kernelspec": {
   "display_name": "Python 3",
   "language": "python",
   "name": "python3"
  },
  "language_info": {
   "codemirror_mode": {
    "name": "ipython",
    "version": 3
   },
   "file_extension": ".py",
   "mimetype": "text/x-python",
   "name": "python",
   "nbconvert_exporter": "python",
   "pygments_lexer": "ipython3",
   "version": "3.8.4rc1"
  }
 },
 "nbformat": 4,
 "nbformat_minor": 4
}
